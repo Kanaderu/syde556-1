{
 "metadata": {
  "name": ""
 },
 "nbformat": 3,
 "nbformat_minor": 0,
 "worksheets": [
  {
   "cells": [
    {
     "cell_type": "markdown",
     "metadata": {
      "slideshow": {
       "slide_type": "slide"
      }
     },
     "source": [
      "## SYDE 556/750: Simulating Neurobiological Systems\n",
      "\n",
      "Winter 2014\n",
      "\n",
      "Terry Stewart"
     ]
    },
    {
     "cell_type": "code",
     "collapsed": false,
     "input": [
      "from IPython.display import YouTubeVideo\n",
      "YouTubeVideo('U_Q6Xjz9QHg', width=720, height=480, loop=1, autoplay=1, playlist='U_Q6Xjz9QHg')"
     ],
     "language": "python",
     "metadata": {},
     "outputs": [
      {
       "html": [
        "\n",
        "        <iframe\n",
        "            width=\"720\"\n",
        "            height=480\"\n",
        "            src=\"http://www.youtube.com/embed/U_Q6Xjz9QHg?playlist=U_Q6Xjz9QHg&loop=1&autoplay=1\"\n",
        "            frameborder=\"0\"\n",
        "            allowfullscreen\n",
        "        ></iframe>\n",
        "        "
       ],
       "metadata": {},
       "output_type": "pyout",
       "prompt_number": 2,
       "text": [
        "<IPython.lib.display.YouTubeVideo at 0x4ceda20>"
       ]
      }
     ],
     "prompt_number": 2
    },
    {
     "cell_type": "markdown",
     "metadata": {
      "slideshow": {
       "slide_type": "slide"
      }
     },
     "source": [
      "# Overall Goal\n",
      "\n",
      "- Building simulated brains\n",
      "- Why?\n",
      "    - To figure out how brains work\n",
      "    - To apply this knowledge to building systems"
     ]
    },
    {
     "cell_type": "markdown",
     "metadata": {
      "slideshow": {
       "slide_type": "slide"
      }
     },
     "source": [
      "# Administration\n",
      "\n",
      "- Contact information\n",
      "  - Terry Stewart: <a href=\"mailto:tcstewar@uwaterloo.ca\">tcstewar@uwaterloo.ca</a>\n",
      "  - Course times: 11:00-12:30 DWE 3519\n",
      "  - Office hours: 2 hours after each lecture"
     ]
    },
    {
     "cell_type": "markdown",
     "metadata": {
      "slideshow": {
       "slide_type": "subslide"
      }
     },
     "source": [
      "## Schedule\n",
      "\n",
      "<table>\n",
      "<tr><th>Week</th><th>Reading</th><th>Monday</th><th>Wednesday</th><th>Assignments</th></tr>\n",
      "<tr><td>Jan 6, 8</td><td>Chpt 1</td><td>Introduction</td><td>Neurons</td><td></td></tr>\n",
      "<tr><td>Jan 13, 15</td><td>Chpt 2,4</td><td colspan=2>Neural Coding</td><td>#1 posted</td></tr>\n",
      "<tr><td>Jan 20, 22</td><td>Chpt 4</td><td colspan=2>Neural Models</td><td></td></tr>\n",
      "<tr><td>Jan 27, 29</td><td>Chpt 5,6</td><td colspan=2>Feedforward Transformations</td><td>#1 due (29th at dawn); #2 posted</td></tr>\n",
      "<tr><td>Feb 3, 5</td><td>Chpt 6,3</td><td colspan=2>Nonlinear Transformations</td><td></td></tr>\n",
      "<tr><td>Feb 10, 12</td><td>Chpt 7</td><td colspan=2>Analysis of Representations</td><td>#2 due (14th at dawn)</td></tr>\n",
      "<tr><td>Feb 17, 19</td><td></td><td colspan=2>*Reading Week*</td><td>#3 posted</td></tr>\n",
      "<tr><td>Feb 24, 26</td><td>Chpt 8</td><td colspan=2>Dynamics and Neural Control</td><td></td></tr>\n",
      "<tr><td>Mar 3, 5</td><td>Chpt 8</td><td colspan=2>Dynamics and Neural Control</td><td>#3 due (5th at dawn)</td></tr>\n",
      "<tr><td>Mar 10, 12</td><td>Chpt 9</td><td colspan=2>Inference and Learning</td><td>#4 posted</td></tr>\n",
      "<tr><td>Mar 17, 19</td><td></td><td colspan=2></td><td>#4 due (19th at dawn)</td></tr>\n",
      "<tr><td>Mar 24, 26</td><td></td><td colspan=2>Project Presentations</td></tr>\n",
      "<tr><td>Mar 31, Apr 2</td><td></td><td colspan=2>Project Presentations</td></tr>\n"
     ]
    }
   ],
   "metadata": {}
  }
 ]
}