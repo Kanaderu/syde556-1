{
 "metadata": {
  "name": ""
 },
 "nbformat": 3,
 "nbformat_minor": 0,
 "worksheets": [
  {
   "cells": [
    {
     "cell_type": "markdown",
     "metadata": {
      "slideshow": {
       "slide_type": "slide"
      }
     },
     "source": [
      "## SYDE 556/750: Simulating Neurobiological Systems\n",
      "\n",
      "Winter 2014\n",
      "\n",
      "Terry Stewart"
     ]
    },
    {
     "cell_type": "code",
     "collapsed": false,
     "input": [
      "from IPython.display import YouTubeVideo\n",
      "YouTubeVideo('U_Q6Xjz9QHg', width=720, height=400, loop=1, autoplay=0, playlist='U_Q6Xjz9QHg')"
     ],
     "language": "python",
     "metadata": {},
     "outputs": [
      {
       "html": [
        "\n",
        "        <iframe\n",
        "            width=\"720\"\n",
        "            height=400\"\n",
        "            src=\"http://www.youtube.com/embed/U_Q6Xjz9QHg?playlist=U_Q6Xjz9QHg&loop=1&autoplay=0\"\n",
        "            frameborder=\"0\"\n",
        "            allowfullscreen\n",
        "        ></iframe>\n",
        "        "
       ],
       "metadata": {},
       "output_type": "pyout",
       "prompt_number": 1,
       "text": [
        "<IPython.lib.display.YouTubeVideo at 0x4c8bf60>"
       ]
      }
     ],
     "prompt_number": 1
    },
    {
     "cell_type": "markdown",
     "metadata": {
      "slideshow": {
       "slide_type": "slide"
      }
     },
     "source": [
      "# Overall Goal\n",
      "\n",
      "- Building simulated brains\n",
      "- Why?\n",
      "    - To figure out how brains work\n",
      "    - To apply this knowledge to building systems"
     ]
    },
    {
     "cell_type": "markdown",
     "metadata": {
      "slideshow": {
       "slide_type": "slide"
      }
     },
     "source": [
      "# Administration\n",
      "\n",
      "- Course website: [http://compneuro.uwaterloo.ca/research/syde-750.html](http://compneuro.uwaterloo.ca/research/syde-750.html)\n",
      "- Contact information\n",
      "  - Terry Stewart: <a href=\"mailto:tcstewar@uwaterloo.ca\">tcstewar@uwaterloo.ca</a>\n",
      "  - Course times: 11:00-12:30 DWE 3519\n",
      "  - Office hours: 2 hours after each lecture"
     ]
    },
    {
     "cell_type": "markdown",
     "metadata": {
      "slideshow": {
       "slide_type": "subslide"
      }
     },
     "source": [
      "## Coursework\n",
      "\n",
      " - Four assignments (60%)\n",
      "     - 20%, 20%, 10%, 10%\n",
      "     - Two weeks for each assignment, except last one (one week)\n",
      "     - Everyone writes their own code, generates their own graphs, writes their own answers\n",
      "         - But it helps to get together to discuss things\n",
      "  \n",
      " - Final project\n",
      "     - Make a novel model of some neural system\n",
      "     - For 556 students, this can be just an extension of something seen in class\n",
      "     - For 750 students, this must be more of a research project\n",
      "     - [ideas](http://compneuro.uwaterloo.ca/research/syde-750/syde-556-possible-projects.html)"
     ]
    },
    {
     "cell_type": "markdown",
     "metadata": {
      "slideshow": {
       "slide_type": "subslide"
      }
     },
     "source": [
      "## Schedule\n",
      "\n",
      "<table>\n",
      "<tr><th>Week</th><th>Reading</th><th>Monday</th><th>Wednesday</th><th>Assignments</th></tr>\n",
      "<tr><td>Jan 6, 8</td><td>Chpt 1</td><td>Introduction</td><td>Neurons</td><td></td></tr>\n",
      "<tr><td>Jan 13, 15</td><td>Chpt 2,4</td><td colspan=2>Neural Coding</td><td>#1 posted</td></tr>\n",
      "<tr><td>Jan 20, 22</td><td>Chpt 4</td><td colspan=2>Neural Models</td><td></td></tr>\n",
      "<tr><td>Jan 27, 29</td><td>Chpt 5,6</td><td colspan=2>Feedforward Transformations</td><td>#1 due (29th at dawn); #2 posted</td></tr>\n",
      "<tr><td>Feb 3, 5</td><td>Chpt 6,3</td><td colspan=2>Nonlinear Transformations</td><td></td></tr>\n",
      "<tr><td>Feb 10, 12</td><td>Chpt 7</td><td colspan=2>Analysis of Representations</td><td>#2 due (14th at dawn)</td></tr>\n",
      "<tr><td>Feb 17, 19</td><td></td><td colspan=2>*Reading Week*</td><td>#3 posted</td></tr>\n",
      "<tr><td>Feb 24, 26</td><td>Chpt 8</td><td colspan=2>Dynamics and Neural Control</td><td></td></tr>\n",
      "<tr><td>Mar 3, 5</td><td>Chpt 8</td><td colspan=2>Dynamics and Neural Control</td><td>#3 due (5th at dawn)</td></tr>\n",
      "<tr><td>Mar 10, 12</td><td>Chpt 9</td><td colspan=2>Inference and Learning</td><td>#4 posted</td></tr>\n",
      "<tr><td>Mar 17, 19</td><td></td><td colspan=2></td><td>#4 due (19th at dawn)</td></tr>\n",
      "<tr><td>Mar 24, 26</td><td></td><td colspan=2>Project Presentations</td><td></td></tr>\n",
      "<tr><td>Mar 31, Apr 2</td><td></td><td colspan=2>Project Presentations</td><td></td></tr>\n",
      "</table>\n"
     ]
    },
    {
     "cell_type": "markdown",
     "metadata": {
      "slideshow": {
       "slide_type": "slide"
      }
     },
     "source": [
      "# My Background\n",
      "\n",
      "- Undergrad: Systems (Waterloo)\n",
      "     - option in Cognitive Science\n",
      "- Masters of Philosophy in Computer Science and AI (Sussex)\n",
      "     - experimental psychology on robots\n",
      "- PhD in Cognitive Science (Carleton)\n",
      "     - philosophy of computational modelling"
     ]
    },
    {
     "cell_type": "markdown",
     "metadata": {
      "slideshow": {
       "slide_type": "subslide"
      }
     },
     "source": [
      "## Research Theme\n",
      "\n",
      "- How does the mind work?\n",
      "- Most complex and most interesting system humanity has ever studied\n",
      "    - Why study anything else?\n",
      "- How should we go about studying it?\n",
      "    - What techniques/tools?\n",
      "    - How do we know if we're making progress?\n",
      "    - How do we deal with the complexity?"
     ]
    },
    {
     "cell_type": "markdown",
     "metadata": {
      "slideshow": {
       "slide_type": "subslide"
      }
     },
     "source": [
      "## Standard Approach\n",
      "\n",
      "- Psychology <img src=\"files/lecture1/WorkingMemory.jpg\" width=400 style=\"float:right\">\n",
      "    - Measure people's performance in lots of situations \n",
      "    - Describe processes that might explain observations \n",
      "    - Example: memory \n",
      "    "
     ]
    },
    {
     "cell_type": "markdown",
     "metadata": {
      "slideshow": {
       "slide_type": "fragment"
      }
     },
     "source": [
      "- Problems\n",
      "    - Hard to get quantitative predictions\n",
      "    - Compare to Aristotelian gravity\n",
      "        - \"All bodies move toward their natural place\""
     ]
    },
    {
     "cell_type": "markdown",
     "metadata": {
      "slideshow": {
       "slide_type": "slide"
      }
     },
     "source": [
      "# Cognitive Modelling\n",
      "\n",
      "\n",
      "\n",
      "- Let's build it <img src=\"files/lecture1/understand.gif\" style=\"float:right\">\n",
      "    - Specify theory in enough detail that this is possible\n",
      "    - Tends to get complex, so need computer simulation\n",
      "- Do for psychology what Newton did for physics\n",
      "    - Note that Newton got lucky that gravity turned out to be analytically tractable\n",
      "    - If he had a computer, he wouldn't have had to invent calculus"
     ]
    },
    {
     "cell_type": "markdown",
     "metadata": {
      "slideshow": {
       "slide_type": "subslide"
      }
     },
     "source": [
      "## Cognitive Models\n",
      "\n",
      "- Lots of different models <img src=\"files/lecture1/conditioning.gif\" style=\"float:right\">\n",
      "    - e.g. Conditioning (Rescorla-Wagner model)  <img src=\"files/lecture1/RescorlaWagner.png\" style=\"float:right\">"
     ]
    },
    {
     "cell_type": "markdown",
     "metadata": {
      "slideshow": {
       "slide_type": "subslide"
      }
     },
     "source": [
      "# Cognitive Architectures\n",
      "\n",
      "- Don't want to make a whole new model for each situation\n",
      "    - Hard to generalize\n",
      "    - Lots of parameters\n",
      "    - Can fit anything\n",
      "- Identify basic components used across tasks\n",
      "    - Adds constraints\n",
      "    - Imposes a high-level organizational theory"
     ]
    },
    {
     "cell_type": "markdown",
     "metadata": {
      "slideshow": {
       "slide_type": "subslide"
      }
     },
     "source": [
      "## ACT-R\n",
      "\n",
      "- Most widely used cognitive architecture <img src=\"files/lecture1/ACTR.png\" width=500px style=\"float:right\">\n",
      "    - [http://act-r.psy.cmu.edu/](http://act-r.psy.cmu.edu/)\n",
      "    - Remembering lists\n",
      "    - Driving a car\n",
      "    - Dialing a phone\n",
      "    - Mental arithmetic\n",
      "    - Parsing a sentence\n",
      "    - Military training\n",
      "    - etc etc\n",
      "- Each components has equations\n",
      "    - Memory activation: $A_i = ln( \\sum t_j^{-d})+\\beta_i$\n",
      "    - Including timing\n",
      "    - Recall time: $T = F e^{-fA_i}$"
     ]
    },
    {
     "cell_type": "markdown",
     "metadata": {
      "slideshow": {
       "slide_type": "subslide"
      }
     },
     "source": [
      "## Problems\n",
      "\n",
      "- Disconnected from neuroscience\n",
      "    - Trying to map components of the model to brain areas\n",
      "    - When a component is active, maybe neurons in that area are more active?\n",
      "- No \"bridging laws\"\n",
      "    - Like having rules of chemistry that never mention that it's all built out of atoms and electrons\n",
      "- No constraints on the equations\n",
      "    - Just anything that can be written down\n",
      "    - Many possibilities; hard to figure out what matches human data best\n",
      "- Maybe that's okay\n",
      "    - Do we understand the brain enough to make this connection and constrain theories?\n",
      "    - When understanding a word processor, do we worry about transistors?"
     ]
    },
    {
     "cell_type": "markdown",
     "metadata": {
      "slideshow": {
       "slide_type": "slide"
      }
     },
     "source": [
      "# The Brain\n",
      "\n",
      "- 2 kg (2% of body weight)\n",
      "- 20 Watts (25% of power consumption)\n",
      "- Area: 4 sheets of paper\n",
      "- Neurons: 100 billion (150,000 per $mm^2$)"
     ]
    },
    {
     "cell_type": "code",
     "collapsed": false,
     "input": [
      "from IPython.display import YouTubeVideo\n",
      "YouTubeVideo('jHxyP-nUhUY', width=500, height=400, autoplay=0, start=60)"
     ],
     "language": "python",
     "metadata": {},
     "outputs": [
      {
       "html": [
        "\n",
        "        <iframe\n",
        "            width=\"500\"\n",
        "            height=400\"\n",
        "            src=\"http://www.youtube.com/embed/jHxyP-nUhUY?start=60&autoplay=0\"\n",
        "            frameborder=\"0\"\n",
        "            allowfullscreen\n",
        "        ></iframe>\n",
        "        "
       ],
       "metadata": {},
       "output_type": "pyout",
       "prompt_number": 1,
       "text": [
        "<IPython.lib.display.YouTubeVideo at 0x4c7aef0>"
       ]
      }
     ],
     "prompt_number": 1
    },
    {
     "cell_type": "markdown",
     "metadata": {
      "slideshow": {
       "slide_type": "subslide"
      }
     },
     "source": [
      "## Brain structures\n",
      "\n",
      "- Lots of visually obvious structure\n",
      "- Lots of greek and latin names to remember\n",
      "    - frontal cortex, thalamus, amygdala, hypothalamus, substantia nigra, etc etc\n",
      "\n",
      "<img src=\"files/lecture1/brain1.jpg\" width=300px>\n",
      "<img src=\"files/lecture1/brain2.png\" width=300px>"
     ]
    },
    {
     "cell_type": "markdown",
     "metadata": {
      "slideshow": {
       "slide_type": "subslide"
      }
     },
     "source": [
      "## A Neuron\n",
      "\n",
      "<iframe src=files/lecture1/neuron.html width=825 height=475></iframe>"
     ]
    },
    {
     "cell_type": "markdown",
     "metadata": {
      "slideshow": {
       "slide_type": "subslide"
      }
     },
     "source": [
      "# Neurons in the brain\n",
      "\n",
      "- 100 billion\n",
      "- 100's or 1000's of visually distinct types\n",
      "- Axon length: from $10^{-4}$ to $5$ m\n",
      "- Each neuron: 500-200,000 inputs and outputs\n",
      "    - 72km of axons\n",
      "- Communication: 100's of different neurotransmitters"
     ]
    },
    {
     "cell_type": "markdown",
     "metadata": {
      "slideshow": {
       "slide_type": "subslide"
      }
     },
     "source": [
      "## Neuron communication: Synapses\n",
      "\n",
      "<img src=files/lecture1/NeuronStructure.jpg>"
     ]
    },
    {
     "cell_type": "markdown",
     "metadata": {
      "slideshow": {
       "slide_type": "subslide"
      }
     },
     "source": [
      "## What it really looks like\n",
      "\n",
      "<img src=files/lecture1/brainbow2.jpg>"
     ]
    },
    {
     "cell_type": "markdown",
     "metadata": {
      "slideshow": {
       "slide_type": "subslide"
      }
     },
     "source": [
      "## What it really really looks like"
     ]
    },
    {
     "cell_type": "code",
     "collapsed": false,
     "input": [
      "from IPython.display import YouTubeVideo\n",
      "YouTubeVideo('F37kuXObIBU', width=720, height=500, start=8*60+35)"
     ],
     "language": "python",
     "metadata": {},
     "outputs": [
      {
       "html": [
        "\n",
        "        <iframe\n",
        "            width=\"720\"\n",
        "            height=500\"\n",
        "            src=\"http://www.youtube.com/embed/F37kuXObIBU?start=515\"\n",
        "            frameborder=\"0\"\n",
        "            allowfullscreen\n",
        "        ></iframe>\n",
        "        "
       ],
       "metadata": {},
       "output_type": "pyout",
       "prompt_number": 20,
       "text": [
        "<IPython.lib.display.YouTubeVideo at 0x4cd9320>"
       ]
      }
     ],
     "prompt_number": 20
    },
    {
     "cell_type": "markdown",
     "metadata": {
      "slideshow": {
       "slide_type": "slide"
      }
     },
     "source": [
      "# Considering the brain\n",
      "\n",
      "- lesion studies\n",
      "- what are the effects of damaging different parts of the brain?\n",
      "    - occipital cortex: blindness (call it visual cortex)\n",
      "    - inferior frontal gyrus: can't speak (Broca's area)\n",
      "    - posterior superior temporal gyrus: can't understand speech (Wernicke's area)\n",
      "    - fusiform gyrus: can't recognize faces (and other complex objects)\n",
      "    - prefrontal cortex: moral judgement???\n",
      "    - aperceptive visual agnosia\n",
      "    - etc, etc, etc\n",
      "\n"
     ]
    },
    {
     "cell_type": "markdown",
     "metadata": {
      "slideshow": {
       "slide_type": "subslide"
      }
     },
     "source": [
      "## fMRI\n",
      "\n",
      "- Functional Magnetic Resonance Imaging <img src=files/lecture1/fMRI.jpg style=\"float:right\">\n",
      "- Measure blood oxygenation levels in the brain\n",
      "     - show the difference between two tasks\n",
      "     - averaged over ~100 trials\n",
      "- Measured while performing tasks\n",
      "     - ~4 second between scans\n",
      "     - some attempts at going faster, but blood vessels don't change much faster than this\n",
      "- Shows where energy is being used in the brain\n",
      "     - equivalent to figuring out how a CPU works by measuring temperature\n",
      "     - a bit more fine-grained than lesion studies\n",
      "- [Neurosynth](http://neurosynth.org/)"
     ]
    },
    {
     "cell_type": "markdown",
     "metadata": {
      "slideshow": {
       "slide_type": "subslide"
      }
     },
     "source": [
      "## EEG\n",
      "\n",
      "- Electrical activity at the scalp\n",
      "- High time resolution\n",
      "- Large-scale communication between areas\n",
      "\n",
      "<img src=\"files/lecture1/eeg-person.jpg\" width=200px> <img src=\"files/lecture1/eeg-data.jpg\" width=200px> <img src=\"files/lecture1/p300.jpg\" width=200px>\n",
      "\n"
     ]
    },
    {
     "cell_type": "markdown",
     "metadata": {
      "slideshow": {
       "slide_type": "subslide"
      }
     },
     "source": [
      "## Single cell recording\n",
      "\n",
      "<iframe width=\"640\" height=\"390\" src=\"//www.youtube.com/embed/KE952yueVLA\" frameborder=\"0\" allowfullscreen></iframe>\n",
      "\n",
      "<img src=\"files/lecture1/catgratings.gif\" width=400px>"
     ]
    },
    {
     "cell_type": "markdown",
     "metadata": {
      "slideshow": {
       "slide_type": "subslide"
      }
     },
     "source": [
      "## Local Field Potential\n",
      "\n",
      "- Place electrodes into the brain, record from it\n",
      "    - not necessarily right at a neuron\n",
      "- Multielectrode recordings\n",
      "- Post-processing: \"Spike sorting\" \n",
      "\n",
      "<img src=\"files/lecture1/multielectrode.jpg\" width=300px> <img src=\"files/lecture1/spikesorting.png\" width=300px>"
     ]
    },
    {
     "cell_type": "markdown",
     "metadata": {
      "slideshow": {
       "slide_type": "subslide"
      }
     },
     "source": [
      "## Rat place cells\n",
      "\n",
      "<iframe width=\"640\" height=\"390\" src=\"//www.youtube.com/embed/lfNVv0A8QvI\" frameborder=\"0\" allowfullscreen></iframe>"
     ]
    },
    {
     "cell_type": "markdown",
     "metadata": {
      "slideshow": {
       "slide_type": "subslide"
      }
     },
     "source": [
      "## Calcium Imaging\n",
      "\n",
      "- In a fish embryo\n",
      "\n",
      "<iframe width=\"640\" height=\"360\" src=\"//www.youtube.com/embed/DGBy-BGiZIM?feature=player_embedded\" frameborder=\"0\" allowfullscreen></iframe>\n",
      "\n",
      "\n"
     ]
    },
    {
     "cell_type": "markdown",
     "metadata": {
      "slideshow": {
       "slide_type": "subslide"
      }
     },
     "source": [
      "## Calcium imaging\n",
      "\n",
      "- In a stalking fish\n",
      "\n",
      "<iframe width=\"640\" height=\"360\" src=\"//www.youtube.com/embed/CpejbZ-XEyM?feature=player_detailpage\" frameborder=\"0\" allowfullscreen></iframe>"
     ]
    },
    {
     "cell_type": "markdown",
     "metadata": {
      "slideshow": {
       "slide_type": "subslide"
      }
     },
     "source": [
      "## Optogenetics\n",
      "\n",
      "<iframe width=\"640\" height=\"390\" src=\"//www.youtube.com/embed/v7uRFVR9BPU\" frameborder=\"0\" allowfullscreen></iframe>"
     ]
    },
    {
     "cell_type": "markdown",
     "metadata": {
      "slideshow": {
       "slide_type": "slide"
      }
     },
     "source": [
      "# What do we know?\n",
      "\n",
      "- lots of details\n",
      "    - Data: \"The proportion of type A neurons in area X is Y\" \n",
      "    - Conclusion: \"Therefore, the proportion of type A neurons in area X is Y\".\n",
      "- hard to get a big picture\n",
      "    - over-generalizing from data \n",
      "  \n",
      "- \"data-rich and theory-poor\"\n",
      "    - need some way to connect these details\n",
      "    - need a unifying theory"
     ]
    },
    {
     "cell_type": "markdown",
     "metadata": {
      "slideshow": {
       "slide_type": "subslide"
      }
     },
     "source": [
      "## Levels of description\n",
      "\n",
      "<img src=\"files/lecture1/levels.png\" width=500px>"
     ]
    },
    {
     "cell_type": "markdown",
     "metadata": {
      "slideshow": {
       "slide_type": "slide"
      }
     },
     "source": [
      "# Computational Neuroscience\n",
      "\n",
      "- what I cannot create, I do not understand   <img src=\"files/lecture1/understand.gif\" style=\"float:right\">\n",
      "- build a computer simulation\n",
      "    - do to neuroscience what Newton did to physics\n",
      "    - too complex to be analytically tractable, so use computer simulation\n",
      "- Can we use this to connect the levels?"
     ]
    },
    {
     "cell_type": "markdown",
     "metadata": {
      "slideshow": {
       "slide_type": "subslide"
      }
     },
     "source": [
      "## Single neuron simulation\n",
      "\n",
      "- Hodgkin & Huxley, 1952\n",
      "\n",
      "<img src=\"files/lecture1/hh-neuron1.png\" width=600px>"
     ]
    },
    {
     "cell_type": "markdown",
     "metadata": {
      "slideshow": {
       "slide_type": "subslide"
      }
     },
     "source": [
      "## Single neuron simulation\n",
      "\n",
      "- Hodgkin & Huxley, 1952\n",
      "\n",
      "<img src=\"files/lecture1/hh-neuron2.png\" width=600px>"
     ]
    },
    {
     "cell_type": "markdown",
     "metadata": {
      "slideshow": {
       "slide_type": "subslide"
      }
     },
     "source": [
      "## Single neuron simulation\n",
      "\n",
      "<img src=\"files/lecture1/hh-circuit.png\" width=200px>\n",
      "<img src=\"files/lecture1/hh-circuit2.jpg\" width=200px>\n",
      "<img src=\"files/lecture1/hh-circuit3.gif\" width=200px>"
     ]
    },
    {
     "cell_type": "markdown",
     "metadata": {
      "slideshow": {
       "slide_type": "subslide"
      }
     },
     "source": [
      "## Millions of neurons"
     ]
    },
    {
     "cell_type": "code",
     "collapsed": false,
     "input": [
      "from IPython.display import YouTubeVideo\n",
      "YouTubeVideo('_UFOSHZ22q4', width=600, height=400, start=60)"
     ],
     "language": "python",
     "metadata": {},
     "outputs": [
      {
       "html": [
        "\n",
        "        <iframe\n",
        "            width=\"600\"\n",
        "            height=400\"\n",
        "            src=\"http://www.youtube.com/embed/_UFOSHZ22q4?start=60\"\n",
        "            frameborder=\"0\"\n",
        "            allowfullscreen\n",
        "        ></iframe>\n",
        "        "
       ],
       "metadata": {},
       "output_type": "pyout",
       "prompt_number": 9,
       "text": [
        "<IPython.lib.display.YouTubeVideo at 0x4c85208>"
       ]
      }
     ],
     "prompt_number": 9
    },
    {
     "cell_type": "markdown",
     "metadata": {
      "slideshow": {
       "slide_type": "subslide"
      }
     },
     "source": [
      "## Billions of neurons\n",
      "\n",
      "- Simplify the neuron model\n",
      "    - $C {dV \\over dt} = I - {V \\over R}$\n",
      "    \n"
     ]
    },
    {
     "cell_type": "code",
     "collapsed": false,
     "input": [
      "from IPython.display import YouTubeVideo\n",
      "YouTubeVideo('WmChhExovzY', width=600, height=400)"
     ],
     "language": "python",
     "metadata": {},
     "outputs": [
      {
       "html": [
        "\n",
        "        <iframe\n",
        "            width=\"600\"\n",
        "            height=400\"\n",
        "            src=\"http://www.youtube.com/embed/WmChhExovzY\"\n",
        "            frameborder=\"0\"\n",
        "            allowfullscreen\n",
        "        ></iframe>\n",
        "        "
       ],
       "metadata": {},
       "output_type": "pyout",
       "prompt_number": 13,
       "text": [
        "<IPython.lib.display.YouTubeVideo at 0x4c851d0>"
       ]
      }
     ],
     "prompt_number": 13
    },
    {
     "cell_type": "markdown",
     "metadata": {
      "slideshow": {
       "slide_type": "subslide"
      }
     },
     "source": [
      "## The controversy\n",
      "\n",
      "- what level of detail for the neurons?  how should they be connected?\n",
      "- IBM SyNAPSE project\n",
      "    - billions of neurons, but very simple models\n",
      "    - randomly connected\n",
      "    - 2009: \"Cat\"-scale brain (1 billion neurons)\n",
      "        - 2012: \"Human\"-scale brain (100 billion neurons)\n",
      "    - Called a [\"hoax and PR stunt\"](http://spectrum.ieee.org/tech-talk/semiconductors/devices/blue-brain-project-leader-angry-about-cat-brain) by:    \n",
      "- Blue Brain\n",
      "    - much more detailed neurons\n",
      "    - randomly connected\n",
      "- how much detail is enough?\n",
      "    - how could we know?"
     ]
    },
    {
     "cell_type": "markdown",
     "metadata": {
      "slideshow": {
       "slide_type": "fragment"
      }
     },
     "source": [
      "- The real test: connecting to *behaviour*\n",
      "    - How can we build models that actually do something?\n",
      "    - How should we connect realistic neurons so they work together?"
     ]
    },
    {
     "cell_type": "markdown",
     "metadata": {
      "slideshow": {
       "slide_type": "slide"
      }
     },
     "source": [
      "# The Neural Engineering Framework\n",
      "\n",
      "- Our attempt\n",
      "    - probably wrong, but got to start somewhere\n",
      "- Three principles\n",
      "    - Representation\n",
      "    - Transformation\n",
      "    - Dynamics\n",
      "- Building behaviour out of detailed low-level components"
     ]
    },
    {
     "cell_type": "markdown",
     "metadata": {
      "slideshow": {
       "slide_type": "subslide"
      }
     },
     "source": [
      "## Representation\n",
      "\n",
      "- How do neurons represent information?\n",
      "- What is the mapping between a value to be stored and the activity of a group of neurons?\n",
      "- What sorts of values can be stored?\n",
      "- Examples:\n",
      "    - Line detection in retina\n",
      "    - Place cells\n",
      "- Claim: every group of neurons should be thought of as representing something\n",
      "    - each neuron has some preferred value\n",
      "    - neurons fire more strongly the closer the value is to that preferred value\n",
      "    - values are *vectors*\n",
      "    "
     ]
    },
    {
     "cell_type": "markdown",
     "metadata": {
      "slideshow": {
       "slide_type": "subslide"
      }
     },
     "source": [
      "## Transformation\n",
      "\n",
      "- Connections compute functions on those vectors\n",
      "- Activity of one group of neurons causes another group to fire\n",
      "    - One group may represent $x$, connected to annother group representing $y$\n",
      "    - Whatever firing pattern we get in $y$ due to $x$ is a function $y = f(x)$\n",
      "- Can find what class of functions are well approximated this way\n",
      "- Puts limits on the algorithms we can implement with neurons"
     ]
    },
    {
     "cell_type": "markdown",
     "metadata": {
      "slideshow": {
       "slide_type": "subslide"
      }
     },
     "source": [
      "## Dynamics\n",
      "\n",
      "- Recurrent connections (feedback)\n",
      "- Turns out to allow us to compute functions of this form:\n",
      "    - ${dx \\over dt} = f(x, u)$\n",
      "    - where $x$ is what the neurons represent, and $u$ is the input neurons\n",
      "- Great for implementing all of control theory\n",
      "- Also memory! (${dx \\over dt} = u$)"
     ]
    },
    {
     "cell_type": "markdown",
     "metadata": {
      "slideshow": {
       "slide_type": "slide"
      }
     },
     "source": [
      "# Examples\n",
      "\n",
      "- This approach gives us a neural compiler\n",
      "- Given an algorithm, you can solve for the connections between neurons that will approximate that algorithm\n",
      "    - Works for a wide variety of neuron models\n",
      "    - Number of neurons affects accuracy\n",
      "    - Neuron properties influence timing\n"
     ]
    },
    {
     "cell_type": "markdown",
     "metadata": {
      "slideshow": {
       "slide_type": "subslide"
      }
     },
     "source": [
      "## Vision: character recognition\n",
      "\n",
      "<iframe width=\"640\" height=\"390\" src=\"//www.youtube.com/embed/2j9rRHChtXk\" frameborder=\"0\" allowfullscreen></iframe>"
     ]
    },
    {
     "cell_type": "markdown",
     "metadata": {
      "slideshow": {
       "slide_type": "subslide"
      }
     },
     "source": [
      "## Simple reactions: Braitenburg vehicle\n",
      "\n",
      "<iframe width=\"640\" height=\"390\" src=\"//www.youtube.com/embed/8w9LrrFkqq8\" frameborder=\"0\" allowfullscreen></iframe>"
     ]
    },
    {
     "cell_type": "markdown",
     "metadata": {
      "slideshow": {
       "slide_type": "subslide"
      }
     },
     "source": [
      "## Problem solving: Tower of Hanoi\n",
      "\n",
      "<iframe width=\"640\" height=\"360\" src=\"//www.youtube.com/embed/sUvHCs5y0o8?feature=player_detailpage\" frameborder=\"0\" allowfullscreen></iframe>"
     ]
    },
    {
     "cell_type": "markdown",
     "metadata": {
      "slideshow": {
       "slide_type": "subslide"
      }
     },
     "source": [
      "## Spaun: digit recognition\n",
      "\n",
      "<iframe width=\"640\" height=\"360\" src=\"//www.youtube.com/embed/f6Ul5TYK5-o?feature=player_detailpage\" frameborder=\"0\" allowfullscreen></iframe>"
     ]
    },
    {
     "cell_type": "markdown",
     "metadata": {
      "slideshow": {
       "slide_type": "subslide"
      }
     },
     "source": [
      "## Spaun: copy drawing\n",
      "\n",
      "<iframe width=\"640\" height=\"390\" src=\"//www.youtube.com/embed/WNnMhF7rnYo\" frameborder=\"0\" allowfullscreen></iframe>"
     ]
    },
    {
     "cell_type": "markdown",
     "metadata": {
      "slideshow": {
       "slide_type": "subslide"
      }
     },
     "source": [
      "# Spaun: addition by counting\n",
      "\n",
      "<iframe width=\"640\" height=\"390\" src=\"//www.youtube.com/embed/mP7DX6x9PX8\" frameborder=\"0\" allowfullscreen></iframe>"
     ]
    },
    {
     "cell_type": "markdown",
     "metadata": {
      "slideshow": {
       "slide_type": "subslide"
      }
     },
     "source": [
      "## Spaun: pattern completion\n",
      "\n",
      "<iframe width=\"640\" height=\"390\" src=\"//www.youtube.com/embed/Q_LRvnwnYp8\" frameborder=\"0\" allowfullscreen></iframe>"
     ]
    },
    {
     "cell_type": "markdown",
     "metadata": {
      "slideshow": {
       "slide_type": "slide"
      }
     },
     "source": [
      "# Benefits\n",
      "\n",
      "- No one else can do this\n",
      "- New ways to test theories (neurological constraints)\n",
      "- Suggests different types of algorithms\n",
      "- Potential medical applications\n",
      "- New ways of understanding the mind and who we are\n",
      "\n",
      "<img src=\"files/lecture1/compare.png\">"
     ]
    },
    {
     "cell_type": "markdown",
     "metadata": {
      "slideshow": {
       "slide_type": "slide"
      }
     },
     "source": [
      "# Homework\n",
      "\n",
      "- Get the textbook\n",
      "  - <img src=http://img1.imagesbn.com/p/9780262550604_p0_v1_s260x420.JPG style='float:right'> Eliasmith and Anderson (2003). Neural Engineering: Representation, Computation and Dynamics in Neurobiological Systems. MIT Press.\n",
      "- Read chapter 1"
     ]
    }
   ],
   "metadata": {}
  }
 ]
}