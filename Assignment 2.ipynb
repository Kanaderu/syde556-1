{
 "metadata": {
  "name": ""
 },
 "nbformat": 3,
 "nbformat_minor": 0,
 "worksheets": [
  {
   "cells": [
    {
     "cell_type": "markdown",
     "metadata": {},
     "source": [
      "# SYDE556/750 Assignment 2: Spiking Neurons\n",
      "\n",
      "- Due Date: February 14th at dawn (7:22am)\n",
      "- Total marks: 20 (20% of final grade)\n",
      "- Late penalty: 1 mark per day\n",
      "\n",
      "- You can use any programming language you like, but it is recommended that you use a language with a matrix library and graphing capabilities.  Two main suggestions are Python and MATLAB."
     ]
    },
    {
     "cell_type": "markdown",
     "metadata": {},
     "source": [
      "## 1) Generating a random input signal\n",
      "\n",
      "### 1.1) Gaussian white noise\n",
      "\n",
      "Create a function called that generates a randomly varying $x(t)$ signal.  This should be like the ``generate_signal`` function used in the course notes.  \n",
      "\n",
      "The inputs to the function are:\n",
      "\n",
      "- ``T``: the length of the signal in seconds\n",
      "- ``dt``: the time step in seconds\n",
      "- ``rms``: the root mean square power level of the signal.  That is, the resulting signal should have $\\sqrt{{1 \\over T} \\int{x(t)^2}dt}=rms$\n",
      "- ``limit``: the maximum frequency for the signal (in Hz)\n",
      "- ``seed``: the random number seed to use (so we can regenerate the same signal again)\n",
      "\n",
      "Notes:\n",
      "\n",
      "- To do Fourier transforms in MATLAB, see [here](http://www.mathworks.com/help/matlab/ref/fft.html)\n",
      "- To do Fourier transforms in Python, see [here](http://docs.scipy.org/doc/numpy/reference/routines.fft.html)    \n",
      "- In both cases, the transform takes you from $t$ to $\\omega$ (or back the other way).  Importantly, $\\omega$ is frequency in *radians*, not in Hz.  To convert Hz to radians, multiply by $2\\pi$.\n",
      "- $\\Delta \\omega$ will be $2 \\pi / T$\n",
      "- To keep the signal real, $X(\\omega)=X(-\\omega)^*$ (the complex conjugate: the real parts are equal, and the imaginary parts switch sign)\n",
      "- When randomly generating $X(\\omega)$ values, sample them from a Normal distribution $N(\\mu=0,\\sigma=1)$.  Remember that these are complex numbers, so sample twice from the distribution; once for the real component and once for the imaginary.\n",
      "- To implement the limit, set all $X(\\omega)$ components with frequencies above the limit to 0\n",
      "    \n",
      "    \n",
      "- a) Plot $x(t)$ for three randomly generated signals with ``limit`` at 5, 10, and 20Hz.  For each of these, ``T``=1, ``dt``=0.001, and ``rms``=0.5.\n",
      "\n",
      "- b) Plot the average $|X(\\omega)|$ (the norm of the Fourier coefficients) over 100 signals generated with  ``T``=1, ``dt``=0.001, ``rms``=0.5, and ``limit``=10 (each of these 100 signals should have a different ``seed``)\n",
      "\n"
     ]
    },
    {
     "cell_type": "markdown",
     "metadata": {},
     "source": [
      "### 1.2) Gaussian power spectrum noise\n",
      "\n",
      "Create a modified version of your function from question 1.1 that produces noise with a different power spectrum.  Instead of having the $X(\\omega)$ values be 0 outside of some limit and sampled from $N(\\mu=0,\\sigma=1)$ inside that limit, we want a smooth drop-off of power as the frequency increases.  In particular, instead of the limit sample from $N(\\mu=0,\\sigma=e^{-{\\omega^2/(2*b^2)}})$ where $b$ is the new ``bandwidth`` parameter that replaces the ``limit`` parameter.\n",
      "\n",
      "- a) Plot $x(t)$ for three randomly generated signals with ``bandwidth`` at 5, 10, and 20Hz.  For each of these, ``T``=1, ``dt``=0.001, and ``rms``=0.5.\n",
      "\n",
      "- b) Plot the average $|X(\\omega)|$ (the norm of the Fourier coefficients) over 100 signals generated with  ``T``=1, ``dt``=0.001, ``rms``=0.5, and ``bandwidth``=10 (each of these 100 signals should have a different ``seed``)\n"
     ]
    },
    {
     "cell_type": "markdown",
     "metadata": {},
     "source": [
      "## 2) Simulating a Spiking Neuron\n",
      "\n",
      "Write a program to simulate a single Leaky-Integrate and Fire neuron.  The core equation is $ {{dV} \\over {dt}} = {1 \\over {\\tau_{RC}}} (J - V)$ (to simplify life, this is normalized so that $R$=1, the resting voltage is 0 and the firing voltage is 1).  This equation can be simulated numerically by taking  small time steps (Euler's method).  When the voltage reaches the threshold $1$, the neuron will spike and then reset its voltage to $0$ for the next $\\tau_{ref}$ amount of time.  For this question, $\\tau_{RC}$=0.02 and $\\tau_{ref}$=0.002\n",
      "\n",
      "Since we want to do inputs in terms of $x$, we need to do $J = \\alpha e \\cdot x + J^{bias}$.  For this neuron, set $e$ to $+1$ and find $\\alpha$ and $J^{bias}$ such that the firing rate when $x=0$ in 40Hz and when $x=1$ it is 150Hz.  To find these $\\alpha$ and $J^{bias}$ values, use the approximation for the LEF neuron $a(J)={1 \\over {\\tau_{ref}-\\tau_{RC}ln(1-{1 \\over J})}}$.\n",
      "\n",
      "- a) Plot the spike output for a constant input of $x=0$ over 1 second.  Report the number of spikes.  Do the same thing for $x=1$.  Use ``dt``=0.001 for the simulation.\n",
      "\n",
      "- b) Does the observed number of spikes in the previous part match the expected number of spikes for $x=0$ and $x=1$?  Why or why not?  What aspects of the simulation would affect this accuracy?\n",
      "\n",
      "- c) Plot the spike output for $x(t)$ generated using your function from part 1.1.  Use ``T``=1, ``dt``=0.001, ``rms``=0.5, and ``limit``=30.  Overlay on this plot $x(t)$\n",
      "\n",
      "- d) Using the same $x(t)$ signal as in part (c), plot the neuron's voltage over time for the first 0.2 seconds, along with the spikes over the same time.\n",
      "\n",
      "- BONUS: How could you improve this simulation (in terms of how closely the model matches actual equation) without significantly increasing the computation time?  0.5 marks for having a good idea, and up to 2 marks for actually implementing it and showing that it works."
     ]
    },
    {
     "cell_type": "code",
     "collapsed": false,
     "input": [],
     "language": "python",
     "metadata": {},
     "outputs": []
    }
   ],
   "metadata": {}
  }
 ]
}