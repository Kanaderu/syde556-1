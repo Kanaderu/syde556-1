{
 "metadata": {
  "name": ""
 },
 "nbformat": 3,
 "nbformat_minor": 0,
 "worksheets": [
  {
   "cells": [
    {
     "cell_type": "markdown",
     "metadata": {},
     "source": [
      "# SYDE 556/750: Simulating Neurobiological Systems\n",
      "\n",
      "Accompanying Readings: Chapter 8\n",
      "\n",
      "Terry Stewart\n",
      "\n",
      "## Dynamics\n",
      "\n",
      "- Everything we've looked at so far has been feed-forward functions\n",
      "    - There's some pattern of activity in one group of neurons representing $x$\n",
      "    - We want that to cause some pattern of activity in another group of neurons to represent $y=f(x)$\n",
      "    - These can be chained together to make more complex systems $z=q(f(x)+g(y))$\n",
      "- these are all feed-forward networks\n",
      "    - what about recurrent networks?\n",
      "\n",
      "<img src=\"files/lecture5/recnet1.gif\">\n",
      "\n",
      "- What happens when we connect a neural group back to itself?\n"
     ]
    },
    {
     "cell_type": "markdown",
     "metadata": {},
     "source": [
      "### Recurrent functions\n",
      "\n",
      "- What if we do exactly what we've done so far in the past, but instead of connecting one group of neurons to another, we just connect it back to itself\n",
      "    - Instead of $y=f(x)$\n",
      "    - We get $x=f(x)$ (???)\n",
      "- This is clearly non-sensical\n",
      "    - For example, if we do $f(x)=x+1$ then we'd have $x=x+1$, or $x-x=1$, or $0=1$\n",
      "    - What would happen if we built this?\n",
      "    - What about $f(x)=-x$?  or $f(x)=x^2$?\n",
      "   "
     ]
    },
    {
     "cell_type": "markdown",
     "metadata": {},
     "source": [
      "### Try it out\n",
      "\n",
      "- Let's try implementing this.\n",
      "- Hmm, that's a bit difficult with what we've done so far\n",
      "    - All of our code so far is set where we figure out what happens to one group of neurons, then take all that data and feed it to the next group of neurons\n",
      "    - Much easier to write code that way\n",
      "    - But difficult when we want to have recurrent connections\n",
      "- So let's switch to other software\n",
      "    - [Nengo](http://nengo.ca)\n",
      "- Start with $x=x+1$    \n",
      "    \n"
     ]
    },
    {
     "cell_type": "code",
     "collapsed": false,
     "input": [
      "import nef\n",
      "net = nef.Network('Recurrent Test 1')\n",
      "net.make('A', neurons=100, dimensions=1)\n",
      "def feedback(x):\n",
      "    return x[0]+1\n",
      "net.connect('A', 'A', func=feedback)\n",
      "net.add_to_nengo()\n",
      "net.view()"
     ],
     "language": "python",
     "metadata": {},
     "outputs": []
    },
    {
     "cell_type": "markdown",
     "metadata": {},
     "source": [
      "<img src=\"files/lecture5/recurrent1.png\">\n",
      "\n",
      "- That sort of makes sense\n",
      "    - $x$ increases quickly, then hits an upper bound\n",
      "- How quickly?\n",
      "    - What parameters of the system affect this?\n",
      "- What are the precise dynamics?\n",
      "\n",
      "- What about $f(x)=-x$?"
     ]
    },
    {
     "cell_type": "code",
     "collapsed": false,
     "input": [
      "import nef\n",
      "net = nef.Network('Recurrent Test 1')\n",
      "net.make('A', neurons=100, dimensions=1)\n",
      "def feedback(x):\n",
      "    return -x[0]\n",
      "net.connect('A', 'A', func=feedback)\n",
      "net.add_to_nengo()\n",
      "net.view()"
     ],
     "language": "python",
     "metadata": {},
     "outputs": []
    },
    {
     "cell_type": "markdown",
     "metadata": {},
     "source": [
      "<img src=\"files/lecture5/recurrent2.png\">\n",
      "\n",
      "- That also makes sense.  What if we nudge it away from zero?"
     ]
    },
    {
     "cell_type": "code",
     "collapsed": false,
     "input": [
      "import nef\n",
      "net = nef.Network('Recurrent Test 1')\n",
      "net.make('A', neurons=100, dimensions=1)\n",
      "def feedback(x):\n",
      "    return -x[0]\n",
      "net.connect('A', 'A', func=feedback)\n",
      "\n",
      "net.make_input('input', [0])\n",
      "net.connect('input', 'A')\n",
      "\n",
      "net.add_to_nengo()\n",
      "net.view()"
     ],
     "language": "python",
     "metadata": {},
     "outputs": []
    },
    {
     "cell_type": "markdown",
     "metadata": {},
     "source": [
      "<img src=\"files/lecture5/recurrent3.png\">\n",
      "\n",
      "- With an input of 1, $x=0.5$\n",
      "- With an input of -1, $x=-0.5$\n",
      "- With an input of 0, it goes back to $x=0$\n",
      "- Does this make sense?\n",
      "    - Why / Why not?\n",
      "    - And why that particular timing?\n",
      "    \n",
      "- What about $f(x)=x^2$?    "
     ]
    },
    {
     "cell_type": "code",
     "collapsed": false,
     "input": [
      "import nef\n",
      "net = nef.Network('Recurrent Test 1')\n",
      "net.make('A', neurons=100, dimensions=1)\n",
      "def feedback(x):\n",
      "    return x[0]*x[0]\n",
      "net.connect('A', 'A', func=feedback)\n",
      "\n",
      "net.make_input('input', [0])\n",
      "net.connect('input', 'A')\n",
      "\n",
      "net.add_to_nengo()\n",
      "net.view()"
     ],
     "language": "python",
     "metadata": {},
     "outputs": []
    },
    {
     "cell_type": "markdown",
     "metadata": {},
     "source": [
      "<img src=\"files/lecture5/recurrent4.png\">\n",
      "\n",
      "- Well that's weird\n",
      "- Stable at $x=0$ with no input but something very strange happens around $x=1$ with no input\n",
      "- Why is this happening?\n"
     ]
    },
    {
     "cell_type": "markdown",
     "metadata": {},
     "source": [
      "### Making sense of dynamics\n",
      "\n",
      "- Let's go back to something simple\n",
      "- Just a single feed-forward neural population\n",
      "    - encode $x$ into current, compute spikes, decode filtered spikes into $\\hat{x}$\n",
      "- Instead of a constant input, let's change the input\n",
      "    - Change it suddenly from zero to one to get a sense of what's happening with changes"
     ]
    },
    {
     "cell_type": "code",
     "collapsed": false,
     "input": [
      "import syde556\n",
      "\n",
      "dt = 0.001\n",
      "\n",
      "t = numpy.arange(1000)*dt\n",
      "x = numpy.zeros(1000)\n",
      "x[300:]=1\n",
      "\n",
      "A = syde556.Ensemble(neurons=80, dimensions=1, max_rate=(50,100))\n",
      "\n",
      "decoder = A.compute_decoder(x, x, noise=0.2)\n",
      "\n",
      "spikes_A, xhat = A.simulate_spikes(x, decoder, tau=0.1)\n",
      "\n",
      "import pylab\n",
      "pylab.plot(t, x, label='$x$')\n",
      "pylab.plot(t, xhat, label='$\\hat{x}$')\n",
      "pylab.legend(loc='best')\n",
      "pylab.ylim(-0.2, 1.2)\n",
      "pylab.show()\n"
     ],
     "language": "python",
     "metadata": {},
     "outputs": [
      {
       "metadata": {},
       "output_type": "display_data",
       "png": "[encoded data removed]",
       "text": [
        "<matplotlib.figure.Figure at 0x7d27128>"
       ]
      }
     ],
     "prompt_number": 18
    },
    {
     "cell_type": "markdown",
     "metadata": {},
     "source": [
      "- This was supposed to compute $f(x)=x$\n",
      "- For a constant input, that works\n",
      "    - But we get something else when there's a change in the input\n",
      "- What is this difference?\n",
      "    - What affects it?"
     ]
    },
    {
     "cell_type": "code",
     "collapsed": false,
     "input": [
      "import syde556\n",
      "\n",
      "dt = 0.001\n",
      "\n",
      "t = numpy.arange(1000)*dt\n",
      "x = numpy.zeros(1000)\n",
      "x[300:]=1\n",
      "\n",
      "A = syde556.Ensemble(neurons=80, dimensions=1, max_rate=(50,100))\n",
      "\n",
      "decoder = A.compute_decoder(x, x, noise=0.2)\n",
      "\n",
      "spikes_A, xhat = A.simulate_spikes(x, decoder, tau=0.03)\n",
      "\n",
      "import pylab\n",
      "pylab.plot(t, x, label='$x$')\n",
      "pylab.plot(t, xhat, label='$\\hat{x}$')\n",
      "pylab.legend(loc='best')\n",
      "pylab.ylim(-0.2, 1.2)\n",
      "pylab.show()\n"
     ],
     "language": "python",
     "metadata": {},
     "outputs": [
      {
       "metadata": {},
       "output_type": "display_data",
       "png": "[encoded data removed]",
       "text": [
        "<matplotlib.figure.Figure at 0x7e53908>"
       ]
      }
     ],
     "prompt_number": 20
    },
    {
     "cell_type": "markdown",
     "metadata": {},
     "source": [
      "- The time constant of the post-synaptic filter\n",
      "- We're not getting $f(x)=x$\n",
      "- Instead we're getting $f(x(t))=x(t)*h(t)$\n"
     ]
    },
    {
     "cell_type": "code",
     "collapsed": false,
     "input": [
      "import syde556\n",
      "\n",
      "dt = 0.001\n",
      "\n",
      "t = numpy.arange(1000)*dt\n",
      "x = numpy.zeros(1000)\n",
      "x[300:]=1\n",
      "\n",
      "h = syde556.psc_filter(t-0.5, 0.1)\n",
      "fx = syde556.apply_filter(numpy.array(x)[:,None], h)*dt\n",
      "\n",
      "A = syde556.Ensemble(neurons=80, dimensions=1, max_rate=(50,100))\n",
      "\n",
      "decoder = A.compute_decoder(x, x, noise=0.2)\n",
      "\n",
      "spikes_A, xhat = A.simulate_spikes(x, decoder, tau=0.1)\n",
      "\n",
      "import pylab\n",
      "pylab.plot(t, x, label='$x(t)$')\n",
      "pylab.plot(t, xhat, label='$\\hat{x}(t)$')\n",
      "pylab.plot(t, fx, label='$x(t)*h(t)$')\n",
      "pylab.legend(loc='lower right')\n",
      "pylab.ylim(-0.2, 1.2)\n",
      "pylab.show()\n"
     ],
     "language": "python",
     "metadata": {},
     "outputs": [
      {
       "metadata": {},
       "output_type": "display_data",
       "png": "[encoded data removed]",
       "text": [
        "<matplotlib.figure.Figure at 0x7e576a0>"
       ]
      }
     ],
     "prompt_number": 28
    },
    {
     "cell_type": "markdown",
     "metadata": {},
     "source": [
      "### Recurrent connections\n",
      "\n",
      "- So a connection actually approximates $f(x(t))*h(t)$\n",
      "- So what does a recurrent connection do?\n",
      "\n",
      "$x(t) = f(x(t))*h(t)$\n",
      "\n",
      "- where $$\n",
      "h(t) = \\begin{cases}\n",
      "    e^{-t/\\tau} &\\mbox{if } t > 0 \\\\ \n",
      "    0 &\\mbox{otherwise} \n",
      "    \\end{cases}\n",
      "$$\n",
      "\n",
      "- How can we work with this?\n",
      "\n",
      "- General rule of thumb: convolutions are annoying, so let's get rid of them\n",
      "- We could do a Fourier transform\n",
      "   - $X(\\omega)=F(\\omega)H(\\omega)$\n",
      "   - but $h(t)$ is this really nice exponential and is zero for values of t<0, so there's another transform that might be a bit easier\n",
      "- Laplace transform\n",
      "   - $X(s)=F(s)H(s)$\n",
      "   - $H(s)={1 \\over {1+s\\tau}}$\n",
      "- rearranging:\n",
      "\n",
      "$X=F {1 \\over {1+s\\tau}}$\n",
      "\n",
      "$X(1+s\\tau) = F$\n",
      "\n",
      "$X + Xs\\tau = F$\n",
      "\n",
      "$sX = {1 \\over \\tau} (F-X)$\n",
      "\n",
      "- convert back into the time domain:\n",
      "\n",
      "${dx \\over dt} = {1 \\over \\tau} (f(x)-x)$\n",
      "\n",
      "\n",
      "\n"
     ]
    },
    {
     "cell_type": "markdown",
     "metadata": {},
     "source": [
      "### Dynamics\n",
      "\n",
      "- This says that if we do a recurrent connection, we actually end up implementing a differential equation\n",
      "\n",
      "- So what happened with $f(x)=x+1$?\n",
      "    - ${dx \\over dt} = {1 \\over \\tau} (x+1-x)$\n",
      "    - ${dx \\over dt} = {1 \\over \\tau}$\n",
      "- what about $f(x)=-x$?\n",
      "    - ${dx \\over dt} = {1 \\over \\tau} (-x-x)$\n",
      "    - ${dx \\over dt} = {-2x \\over \\tau}$\n",
      "- and $f(x)=x^2$?    \n",
      "    - ${dx \\over dt} = {1 \\over \\tau} (x^2-x)$\n",
      "\n",
      "- What if there's some differential equation we really want to implement?\n",
      "    - we want ${dx \\over dt} = f(x)$\n",
      "    - so we do a recurrent connection of $f'(x)=\\tau f(x)+x$\n",
      "    - the resulting model will end up implementing ${dx \\over dt} = {1 \\over \\tau} (\\tau f(x)+x-x)=f(x)$\n",
      "        "
     ]
    },
    {
     "cell_type": "markdown",
     "metadata": {},
     "source": [
      "### Inputs\n",
      "\n",
      "- What happens if there's an input as well?\n",
      "    - We'll call the input $u$ from another population, and it is also computing some function $g(u)$\n",
      "    - $x(t) = f(x(t))*h(t)+g(u(t))*h(t)$\n",
      "- Follow the same derivation steps\n",
      "\n",
      "${dx \\over dt} = {1 \\over \\tau} (f(x)-x + g(u))$\n",
      "\n",
      "- So if you have some input that you want added to ${dx \\over dt}$, you need to scale it by $\\tau$\n",
      "\n",
      "- This lets us do any differential equation of the form ${dx \\over dt}=f(x)+g(u)$\n",
      "    "
     ]
    },
    {
     "cell_type": "markdown",
     "metadata": {},
     "source": [
      "## Applications\n",
      "\n",
      "### Eye control\n",
      "\n",
      "- Part of the brainstem called the nuclei prepositus hypoglossi\n",
      "- Input is eye velocity $v$\n",
      "- Output is eye position $p$\n",
      "- ${dp \\over dt}=v$\n",
      "    - This is an integrator ($p$ is the integral of $v$)\n",
      "\n",
      "- So, to get it in the standard form ${dx \\over dt}=f(x)+g(u)$ we have:\n",
      "    - $f(p)=0$\n",
      "    - $g(v)=v$\n",
      "- So that means we need a recurrent function of $f'(p)=\\tau(0)+p = p$ and $g'(v)=\\tau v$\n"
     ]
    },
    {
     "cell_type": "code",
     "collapsed": false,
     "input": [
      "import nef\n",
      "\n",
      "tau=0.1\n",
      "\n",
      "net = nef.Network('Neural Integrator')\n",
      "net.make('velocity', neurons=100, dimensions=1)\n",
      "net.make('position', neurons=100, dimensions=1)\n",
      "def recurrent(x):\n",
      "    return x[0]\n",
      "net.connect('position', 'position', func=recurrent, pstc=tau)\n",
      "net.connect('velocity', 'position', transform=[[tau]])\n",
      "\n",
      "net.make_input('input', [0])\n",
      "net.connect('input', 'velocity')\n",
      "\n",
      "net.add_to_nengo()\n",
      "net.view()"
     ],
     "language": "python",
     "metadata": {},
     "outputs": []
    },
    {
     "cell_type": "markdown",
     "metadata": {},
     "source": [
      "<img src=\"files/lecture5/integrator.png\">\n",
      "\n",
      "- But, in order to be a perfect integrator, we'd need exactly $f'(p)=p$\n",
      "    - We won't get exactly that\n",
      "    - Neural implementations are always approximations\n",
      "- Two forms of error:\n",
      "    - $E_{distortion}$, the decoding error\n",
      "    - $E_{noise}$, the random noise error\n",
      "- What will they do?\n",
      "\n",
      "<img src=\"files/lecture5/integrator_error.png\">\n",
      "\n",
      "- What affects this?\n",
      "    \n"
     ]
    },
    {
     "cell_type": "code",
     "collapsed": false,
     "input": [
      "import syde556\n",
      "reload(syde556)\n",
      "\n",
      "x = numpy.linspace(-1, 1, 100)\n",
      "\n",
      "A = syde556.Ensemble(neurons=200, dimensions=1, seed=1)\n",
      "decoder = A.compute_decoder(x, x, noise=0.1)\n",
      "activity, xhat = A.simulate_rate(x, decoder)\n",
      "\n",
      "import pylab\n",
      "pylab.axhline(0, color='k')\n",
      "pylab.plot(x, x-xhat, label='$x-\\hat{x}$')\n",
      "pylab.legend(loc='best')\n",
      "pylab.xlabel('$x$')\n",
      "pylab.show()\n"
     ],
     "language": "python",
     "metadata": {},
     "outputs": [
      {
       "metadata": {},
       "output_type": "display_data",
       "png": "[encoded data removed]",
       "text": [
        "<matplotlib.figure.Figure at 0x7d99080>"
       ]
      }
     ],
     "prompt_number": 55
    },
    {
     "cell_type": "markdown",
     "metadata": {},
     "source": [
      "- So we can think of the distortion error as introducing a bunch of local attractors into the representation\n",
      "    - There will be a tendency to drift towards one of these even if the input is zero\n",
      "- What will random noise do?\n",
      "    - Push the representation back and forth\n",
      "    - What if it is small?\n",
      "    - What if it is large?\n",
      "- So what will changing the post-synaptic time constant $\\tau$ do?\n",
      "    - How does that interact with noise?"
     ]
    }
   ],
   "metadata": {}
  }
 ]
}